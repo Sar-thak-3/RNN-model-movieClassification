{
 "cells": [
  {
   "cell_type": "code",
   "execution_count": 3,
   "metadata": {},
   "outputs": [],
   "source": [
    "# Movie review classification based on rnn"
   ]
  },
  {
   "cell_type": "code",
   "execution_count": 4,
   "metadata": {},
   "outputs": [],
   "source": [
    "from keras.datasets import imdb\n",
    "((x_train,y_train),(x_test,y_test)) = imdb.load_data(num_words=10000)"
   ]
  },
  {
   "cell_type": "code",
   "execution_count": 5,
   "metadata": {},
   "outputs": [],
   "source": [
    "# We just give the index of word to the embedding matrix and thus in return we got the embedded layer at that word index\n",
    "\n",
    "# Create a 2d tensor to be processed by the embedding layer\n",
    "from keras.utils import pad_sequences\n",
    "x_train = pad_sequences(x_train,maxlen=500)\n",
    "x_test = pad_sequences(x_test,maxlen=500)"
   ]
  },
  {
   "cell_type": "code",
   "execution_count": 6,
   "metadata": {},
   "outputs": [
    {
     "data": {
      "text/plain": [
       "(25000, 500)"
      ]
     },
     "execution_count": 6,
     "metadata": {},
     "output_type": "execute_result"
    }
   ],
   "source": [
    "x_test.shape"
   ]
  },
  {
   "cell_type": "code",
   "execution_count": 7,
   "metadata": {},
   "outputs": [],
   "source": [
    "from keras.layers import Embedding,SimpleRNN,Dense\n",
    "from keras.models import Sequential\n",
    "model = Sequential()\n",
    "model.add(Embedding(10000,64))  # accepts vocab size(10000) and output size(k)"
   ]
  },
  {
   "cell_type": "code",
   "execution_count": 8,
   "metadata": {},
   "outputs": [
    {
     "name": "stdout",
     "output_type": "stream",
     "text": [
      "Model: \"sequential\"\n",
      "_________________________________________________________________\n",
      " Layer (type)                Output Shape              Param #   \n",
      "=================================================================\n",
      " embedding (Embedding)       (None, None, 64)          640000    \n",
      "                                                                 \n",
      " simple_rnn (SimpleRNN)      (None, 32)                3104      \n",
      "                                                                 \n",
      " dense (Dense)               (None, 1)                 33        \n",
      "                                                                 \n",
      "=================================================================\n",
      "Total params: 643,137\n",
      "Trainable params: 643,137\n",
      "Non-trainable params: 0\n",
      "_________________________________________________________________\n"
     ]
    }
   ],
   "source": [
    "# _ _ _ _ _ _ _ _ _ _\n",
    "# _ _ _ _ _ _ _ _ _ _\n",
    "# _ _ _ _ _ _ _ _ _ _\n",
    "# _ _ _ _ _ _ _ _ _ _\n",
    "# _ _ _ _ _ _ _ _ _ _\n",
    "# _ _ _ _ _ _ _ _ _ _\n",
    "model.add(SimpleRNN(32))\n",
    "model.add(Dense(1,activation=\"sigmoid\"))\n",
    "model.summary()"
   ]
  },
  {
   "cell_type": "code",
   "execution_count": 9,
   "metadata": {},
   "outputs": [],
   "source": [
    "model.compile(optimizer='rmsprop',loss=\"binary_crossentropy\",metrics=[\"accuracy\"])\n",
    "# model.fit(x_train,y_train,validation_split=0.2,epochs=10,batch_size=128)"
   ]
  },
  {
   "cell_type": "code",
   "execution_count": 10,
   "metadata": {},
   "outputs": [],
   "source": [
    "# how to save and load model again\n",
    "# model.save(\"rnn_imdb.h5\")"
   ]
  },
  {
   "cell_type": "code",
   "execution_count": 11,
   "metadata": {},
   "outputs": [],
   "source": [
    "# model.load_weights(\"rnn_imdb.h5\")"
   ]
  },
  {
   "cell_type": "code",
   "execution_count": 12,
   "metadata": {},
   "outputs": [],
   "source": [
    "# model.evaluate(x_test,y_test)"
   ]
  },
  {
   "cell_type": "code",
   "execution_count": 13,
   "metadata": {},
   "outputs": [
    {
     "name": "stdout",
     "output_type": "stream",
     "text": [
      "WARNING:tensorflow:`period` argument is deprecated. Please use `save_freq` to specify the frequency in number of batches seen.\n",
      "Epoch 1/10\n",
      "157/157 [==============================] - 24s 147ms/step - loss: 0.5914 - accuracy: 0.6704 - val_loss: 0.4239 - val_accuracy: 0.8196\n",
      "Epoch 2/10\n",
      "157/157 [==============================] - 21s 133ms/step - loss: 0.3556 - accuracy: 0.8515 - val_loss: 0.3667 - val_accuracy: 0.8474\n",
      "Epoch 3/10\n",
      "157/157 [==============================] - 20s 127ms/step - loss: 0.2525 - accuracy: 0.9006 - val_loss: 0.3875 - val_accuracy: 0.8304\n",
      "Epoch 4/10\n",
      "157/157 [==============================] - 20s 127ms/step - loss: 0.1663 - accuracy: 0.9404 - val_loss: 0.4279 - val_accuracy: 0.8522\n",
      "Epoch 5/10\n",
      "157/157 [==============================] - 20s 128ms/step - loss: 0.0941 - accuracy: 0.9686 - val_loss: 0.4401 - val_accuracy: 0.8494\n",
      "Epoch 6/10\n",
      "157/157 [==============================] - 20s 125ms/step - loss: 0.0593 - accuracy: 0.9823 - val_loss: 0.4785 - val_accuracy: 0.8408\n"
     ]
    }
   ],
   "source": [
    "# We want to save the model after the best epoch\n",
    "# you will save model only when accuracy is going to increase\n",
    "from keras.callbacks import ModelCheckpoint,EarlyStopping\n",
    "earlyStopping = EarlyStopping(monitor=\"val_accuracy\",patience=2,)\n",
    "checkpoint = ModelCheckpoint(\"best_model.h5\",monitor=\"val_loss\",verbose=0,save_best_only=True,save_weights_only=False,mode='auto',period=1)\n",
    "hist = model.fit(x_train,y_train,validation_split=0.2,epochs=10,batch_size=128,callbacks=[checkpoint,earlyStopping])"
   ]
  },
  {
   "cell_type": "code",
   "execution_count": 14,
   "metadata": {},
   "outputs": [],
   "source": [
    "# keras.callbacks.EarlyStopping"
   ]
  },
  {
   "cell_type": "code",
   "execution_count": 15,
   "metadata": {},
   "outputs": [
    {
     "name": "stdout",
     "output_type": "stream",
     "text": [
      "782/782 [==============================] - 16s 20ms/step - loss: 0.5026 - accuracy: 0.8357\n"
     ]
    },
    {
     "data": {
      "text/plain": [
       "[0.5025525093078613, 0.8357200026512146]"
      ]
     },
     "execution_count": 15,
     "metadata": {},
     "output_type": "execute_result"
    }
   ],
   "source": [
    "model.evaluate(x_test,y_test)"
   ]
  },
  {
   "cell_type": "code",
   "execution_count": 26,
   "metadata": {},
   "outputs": [
    {
     "data": {
      "text/plain": [
       "array([0, 1, 1, ..., 0, 0, 0], dtype=int64)"
      ]
     },
     "execution_count": 26,
     "metadata": {},
     "output_type": "execute_result"
    }
   ],
   "source": [
    "x_test\n",
    "# x_test.shape\n",
    "y_test"
   ]
  },
  {
   "cell_type": "code",
   "execution_count": 21,
   "metadata": {},
   "outputs": [
    {
     "name": "stdout",
     "output_type": "stream",
     "text": [
      "782/782 [==============================] - 16s 21ms/step\n"
     ]
    },
    {
     "data": {
      "text/plain": [
       "(25000, 1)"
      ]
     },
     "execution_count": 21,
     "metadata": {},
     "output_type": "execute_result"
    }
   ],
   "source": [
    "ans = model.predict(x_test)\n",
    "ans.shape"
   ]
  },
  {
   "cell_type": "code",
   "execution_count": 27,
   "metadata": {},
   "outputs": [
    {
     "name": "stdout",
     "output_type": "stream",
     "text": [
      "20893\n"
     ]
    }
   ],
   "source": [
    "import numpy as np\n",
    "correct = 0\n",
    "for i in range(25000):\n",
    "    if(ans[i,0]>0.5):\n",
    "        if(y_test[i]==1):\n",
    "            correct += 1\n",
    "    else:\n",
    "        if(y_test[i]==0):\n",
    "            correct += 1\n",
    "print(correct)"
   ]
  }
 ],
 "metadata": {
  "kernelspec": {
   "display_name": "Python 3",
   "language": "python",
   "name": "python3"
  },
  "language_info": {
   "codemirror_mode": {
    "name": "ipython",
    "version": 3
   },
   "file_extension": ".py",
   "mimetype": "text/x-python",
   "name": "python",
   "nbconvert_exporter": "python",
   "pygments_lexer": "ipython3",
   "version": "3.10.8"
  },
  "orig_nbformat": 4,
  "vscode": {
   "interpreter": {
    "hash": "2469a70536e4d2335a2ea8907942d0699c37342a371ac185bdb5b0aa6f073890"
   }
  }
 },
 "nbformat": 4,
 "nbformat_minor": 2
}
